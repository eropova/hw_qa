{
 "cells": [
  {
   "cell_type": "markdown",
   "id": "179a8808-20fa-47ea-8e8d-ec9c836eea56",
   "metadata": {},
   "source": [
    "# TASK #3\n",
    "Propose more examples of Data Quality checks for each DQ dimension to this dataset. Minimum 1 additional example per dimension."
   ]
  },
  {
   "cell_type": "code",
   "execution_count": 1,
   "id": "91c0b44e-e24c-4c21-94f6-7c956b4d6933",
   "metadata": {},
   "outputs": [],
   "source": [
    "import pandas as pd"
   ]
  },
  {
   "cell_type": "code",
   "execution_count": 2,
   "id": "98eeb5c2-62cc-4623-8e86-8aed5148cd93",
   "metadata": {},
   "outputs": [
    {
     "name": "stderr",
     "output_type": "stream",
     "text": [
      "c:\\users\\orange\\pycharmprojects\\epam\\venv\\lib\\site-packages\\IPython\\core\\interactiveshell.py:3251: DtypeWarning: Columns (17,18,20,21,22,23,29,30,31,32,34,36,38,39) have mixed types.Specify dtype option on import or set low_memory=False.\n",
      "  exec(code_obj, self.user_global_ns, self.user_ns)\n"
     ]
    }
   ],
   "source": [
    "df2016 = pd.read_csv('Parking_Violations_Issued_-_Fiscal_Year_2016.csv')"
   ]
  },
  {
   "cell_type": "code",
   "execution_count": 3,
   "id": "9735a2ac-cddf-47d9-ada7-a6c4eea1cf31",
   "metadata": {},
   "outputs": [
    {
     "name": "stdout",
     "output_type": "stream",
     "text": [
      "<class 'pandas.core.frame.DataFrame'>\n",
      "RangeIndex: 10626899 entries, 0 to 10626898\n",
      "Data columns (total 51 columns):\n",
      " #   Column                             Dtype  \n",
      "---  ------                             -----  \n",
      " 0   Summons Number                     int64  \n",
      " 1   Plate ID                           object \n",
      " 2   Registration State                 object \n",
      " 3   Plate Type                         object \n",
      " 4   Issue Date                         object \n",
      " 5   Violation Code                     int64  \n",
      " 6   Vehicle Body Type                  object \n",
      " 7   Vehicle Make                       object \n",
      " 8   Issuing Agency                     object \n",
      " 9   Street Code1                       int64  \n",
      " 10  Street Code2                       int64  \n",
      " 11  Street Code3                       int64  \n",
      " 12  Vehicle Expiration Date            float64\n",
      " 13  Violation Location                 float64\n",
      " 14  Violation Precinct                 float64\n",
      " 15  Issuer Precinct                    float64\n",
      " 16  Issuer Code                        float64\n",
      " 17  Issuer Command                     object \n",
      " 18  Issuer Squad                       object \n",
      " 19  Violation Time                     object \n",
      " 20  Time First Observed                object \n",
      " 21  Violation County                   object \n",
      " 22  Violation In Front Of Or Opposite  object \n",
      " 23  House Number                       object \n",
      " 24  Street Name                        object \n",
      " 25  Intersecting Street                object \n",
      " 26  Date First Observed                float64\n",
      " 27  Law Section                        float64\n",
      " 28  Sub Division                       object \n",
      " 29  Violation Legal Code               object \n",
      " 30  Days Parking In Effect             object \n",
      " 31  From Hours In Effect               object \n",
      " 32  To Hours In Effect                 object \n",
      " 33  Vehicle Color                      object \n",
      " 34  Unregistered Vehicle?              object \n",
      " 35  Vehicle Year                       float64\n",
      " 36  Meter Number                       object \n",
      " 37  Feet From Curb                     float64\n",
      " 38  Violation Post Code                object \n",
      " 39  Violation Description              object \n",
      " 40  No Standing or Stopping Violation  float64\n",
      " 41  Hydrant Violation                  float64\n",
      " 42  Double Parking Violation           float64\n",
      " 43  Latitude                           float64\n",
      " 44  Longitude                          float64\n",
      " 45  Community Board                    float64\n",
      " 46  Community Council                  float64\n",
      " 47  Census Tract                       float64\n",
      " 48  BIN                                float64\n",
      " 49  BBL                                float64\n",
      " 50  NTA                                float64\n",
      "dtypes: float64(20), int64(5), object(26)\n",
      "memory usage: 4.0+ GB\n"
     ]
    }
   ],
   "source": [
    "df2016.info()"
   ]
  },
  {
   "cell_type": "code",
   "execution_count": 4,
   "id": "bf7950d6-b705-4c1d-b827-5c5630fc2b76",
   "metadata": {},
   "outputs": [
    {
     "data": {
      "text/plain": [
       "Summons Number                          1363745293\n",
       "Plate ID                                    KXD355\n",
       "Registration State                              SC\n",
       "Plate Type                                     PAS\n",
       "Issue Date                              07/09/2015\n",
       "Violation Code                                  21\n",
       "Vehicle Body Type                             SUBN\n",
       "Vehicle Make                                 CHEVR\n",
       "Issuing Agency                                   P\n",
       "Street Code1                                 55730\n",
       "Street Code2                                 67030\n",
       "Street Code3                                 58730\n",
       "Vehicle Expiration Date                 20160288.0\n",
       "Violation Location                            79.0\n",
       "Violation Precinct                            79.0\n",
       "Issuer Precinct                              301.0\n",
       "Issuer Code                               358160.0\n",
       "Issuer Command                                T301\n",
       "Issuer Squad                                     0\n",
       "Violation Time                               1206P\n",
       "Time First Observed                            NaN\n",
       "Violation County                                 K\n",
       "Violation In Front Of Or Opposite                F\n",
       "House Number                                   331\n",
       "Street Name                          LEXINGTON AVE\n",
       "Intersecting Street                            NaN\n",
       "Date First Observed                            0.0\n",
       "Law Section                                  408.0\n",
       "Sub Division                                    F1\n",
       "Violation Legal Code                           NaN\n",
       "Days Parking In Effect                     YBBYBBB\n",
       "From Hours In Effect                         1100A\n",
       "To Hours In Effect                           1230P\n",
       "Vehicle Color                                  RED\n",
       "Unregistered Vehicle?                          0.0\n",
       "Vehicle Year                                   0.0\n",
       "Meter Number                                     -\n",
       "Feet From Curb                                 0.0\n",
       "Violation Post Code                            NaN\n",
       "Violation Description                          NaN\n",
       "No Standing or Stopping Violation              NaN\n",
       "Hydrant Violation                              NaN\n",
       "Double Parking Violation                       NaN\n",
       "Latitude                                       NaN\n",
       "Longitude                                      NaN\n",
       "Community Board                                NaN\n",
       "Community Council                              NaN\n",
       "Census Tract                                   NaN\n",
       "BIN                                            NaN\n",
       "BBL                                            NaN\n",
       "NTA                                            NaN\n",
       "Name: 1, dtype: object"
      ]
     },
     "execution_count": 4,
     "metadata": {},
     "output_type": "execute_result"
    }
   ],
   "source": [
    "df2016.iloc[1,:]"
   ]
  },
  {
   "cell_type": "code",
   "execution_count": null,
   "id": "26c4e469-e73f-4bb8-a243-60a5a0795734",
   "metadata": {},
   "outputs": [],
   "source": []
  },
  {
   "cell_type": "markdown",
   "id": "61c647e2-bb81-414f-80b8-2f33730bf9ee",
   "metadata": {},
   "source": [
    "### 3.1 Dimension 1 (Consistency)"
   ]
  },
  {
   "cell_type": "markdown",
   "id": "b8515f7d-d722-474e-820b-ef94269ce977",
   "metadata": {},
   "source": [
    "Столбец 'Violation Code' должен соответствовать официально существующим кодам нарушений, размещенным на сайте  (https://data.ny.gov/widgets/ncbg-6agr) и не должен быть пустым"
   ]
  },
  {
   "cell_type": "code",
   "execution_count": 5,
   "id": "f33f34b5-8dd2-41cd-9b5e-a4cc05cd0b26",
   "metadata": {},
   "outputs": [
    {
     "data": {
      "text/html": [
       "<div>\n",
       "<style scoped>\n",
       "    .dataframe tbody tr th:only-of-type {\n",
       "        vertical-align: middle;\n",
       "    }\n",
       "\n",
       "    .dataframe tbody tr th {\n",
       "        vertical-align: top;\n",
       "    }\n",
       "\n",
       "    .dataframe thead th {\n",
       "        text-align: right;\n",
       "    }\n",
       "</style>\n",
       "<table border=\"1\" class=\"dataframe\">\n",
       "  <thead>\n",
       "    <tr style=\"text-align: right;\">\n",
       "      <th></th>\n",
       "      <th>CODE</th>\n",
       "      <th>DEFINITION</th>\n",
       "      <th>Manhattan 96th St. &amp; below</th>\n",
       "      <th>All Other Areas</th>\n",
       "    </tr>\n",
       "  </thead>\n",
       "  <tbody>\n",
       "    <tr>\n",
       "      <th>0</th>\n",
       "      <td>1</td>\n",
       "      <td>FAILURE TO DISPLAY BUS PERMIT</td>\n",
       "      <td>515</td>\n",
       "      <td>515</td>\n",
       "    </tr>\n",
       "    <tr>\n",
       "      <th>1</th>\n",
       "      <td>2</td>\n",
       "      <td>NO OPERATOR NAM/ADD/PH DISPLAY</td>\n",
       "      <td>515</td>\n",
       "      <td>515</td>\n",
       "    </tr>\n",
       "    <tr>\n",
       "      <th>2</th>\n",
       "      <td>3</td>\n",
       "      <td>UNAUTHORIZED PASSENGER PICK-UP</td>\n",
       "      <td>515</td>\n",
       "      <td>515</td>\n",
       "    </tr>\n",
       "    <tr>\n",
       "      <th>3</th>\n",
       "      <td>4</td>\n",
       "      <td>BUS PARKING IN LOWER MANHATTAN</td>\n",
       "      <td>115</td>\n",
       "      <td>115</td>\n",
       "    </tr>\n",
       "    <tr>\n",
       "      <th>4</th>\n",
       "      <td>5</td>\n",
       "      <td>BUS LANE VIOLATION</td>\n",
       "      <td>50</td>\n",
       "      <td>50</td>\n",
       "    </tr>\n",
       "  </tbody>\n",
       "</table>\n",
       "</div>"
      ],
      "text/plain": [
       "   CODE                      DEFINITION  Manhattan 96th St. & below  \\\n",
       "0     1   FAILURE TO DISPLAY BUS PERMIT                         515   \n",
       "1     2  NO OPERATOR NAM/ADD/PH DISPLAY                         515   \n",
       "2     3  UNAUTHORIZED PASSENGER PICK-UP                         515   \n",
       "3     4  BUS PARKING IN LOWER MANHATTAN                         115   \n",
       "4     5              BUS LANE VIOLATION                          50   \n",
       "\n",
       "   All Other Areas  \n",
       "0              515  \n",
       "1              515  \n",
       "2              515  \n",
       "3              115  \n",
       "4               50  "
      ]
     },
     "execution_count": 5,
     "metadata": {},
     "output_type": "execute_result"
    }
   ],
   "source": [
    "violation_codes = pd.read_csv('viol_codes.csv')\n",
    "violation_codes.head()"
   ]
  },
  {
   "cell_type": "code",
   "execution_count": 6,
   "id": "c1573c59-7653-4020-9652-c877e9a39fa0",
   "metadata": {},
   "outputs": [
    {
     "data": {
      "text/plain": [
       "True     10625570\n",
       "False        1329\n",
       "Name: Violation Code, dtype: int64"
      ]
     },
     "execution_count": 6,
     "metadata": {},
     "output_type": "execute_result"
    }
   ],
   "source": [
    "df2016['Violation Code'].isin(violation_codes['CODE']).value_counts()"
   ]
  },
  {
   "cell_type": "code",
   "execution_count": 29,
   "id": "fddf0739-d2d8-403a-ab70-1b4f8769d38d",
   "metadata": {},
   "outputs": [
    {
     "data": {
      "text/plain": [
       "0"
      ]
     },
     "execution_count": 29,
     "metadata": {},
     "output_type": "execute_result"
    }
   ],
   "source": [
    "df2016['Violation Code'].isnull().sum()"
   ]
  },
  {
   "cell_type": "code",
   "execution_count": null,
   "id": "468cc249-a6a9-45b5-a11e-da0c7b0ff7e9",
   "metadata": {},
   "outputs": [],
   "source": []
  },
  {
   "cell_type": "markdown",
   "id": "ee3a3511-3d62-4dda-9122-8e13416ff0d7",
   "metadata": {
    "tags": []
   },
   "source": [
    "### 3.2 Dimension 2 (Timeliness)\n"
   ]
  },
  {
   "cell_type": "markdown",
   "id": "d0c6d11a-eae4-48a8-87ad-ea333b63c565",
   "metadata": {},
   "source": [
    "Учитывая что данные в DF представлены за 2016 налоговый год, данные старше 2016-06-30 можно не принимать во внимание (тем более \"даты из будущего\" - даты старше даты формирования DF). Также могут быть неактуальны даты из прошлого столетия, но это будет зависить от целей обработки данных."
   ]
  },
  {
   "cell_type": "code",
   "execution_count": 7,
   "id": "8645690b-18f7-4f4f-af80-9f1a0eac8d5c",
   "metadata": {},
   "outputs": [
    {
     "data": {
      "text/plain": [
       "1970    2\n",
       "1971    1\n",
       "1973    4\n",
       "1975    1\n",
       "1979    2\n",
       "1980    1\n",
       "1982    1\n",
       "1984    1\n",
       "1985    2\n",
       "1986    1\n",
       "Name: Issue Date, dtype: int64"
      ]
     },
     "execution_count": 7,
     "metadata": {},
     "output_type": "execute_result"
    }
   ],
   "source": [
    "pd.to_datetime(df2016['Issue Date']).dt.year.value_counts().sort_index().head(10)"
   ]
  },
  {
   "cell_type": "code",
   "execution_count": 8,
   "id": "5235e7a8-7fe5-4bbc-b27b-b8e90575598d",
   "metadata": {},
   "outputs": [
    {
     "data": {
      "text/plain": [
       "0    1970\n",
       "1    1970\n",
       "2    1970\n",
       "3    1970\n",
       "4    1970\n",
       "Name: Vehicle Expiration Date, dtype: int64"
      ]
     },
     "execution_count": 8,
     "metadata": {},
     "output_type": "execute_result"
    }
   ],
   "source": [
    "dd = df2016['Vehicle Expiration Date'][:5]\n",
    "dd.astype('datetime64[ns]').dt.year"
   ]
  },
  {
   "cell_type": "code",
   "execution_count": 9,
   "id": "08b72513-c6ec-406c-8afc-5dfc8530fec0",
   "metadata": {},
   "outputs": [
    {
     "data": {
      "text/plain": [
       "0     20170602.0\n",
       "1     20160288.0\n",
       "2            0.0\n",
       "3            0.0\n",
       "4     20160206.0\n",
       "5     20160709.0\n",
       "6     20160709.0\n",
       "7     20170602.0\n",
       "8     20150288.0\n",
       "9     20170407.0\n",
       "10           0.0\n",
       "11    20160421.0\n",
       "12    20150526.0\n",
       "13           0.0\n",
       "14    20160930.0\n",
       "Name: Vehicle Expiration Date, dtype: float64"
      ]
     },
     "execution_count": 9,
     "metadata": {},
     "output_type": "execute_result"
    }
   ],
   "source": [
    "df2016['Vehicle Expiration Date'].head(15)#.astype('int', errors='ignore')).head()#.dt.year.value_counts()"
   ]
  },
  {
   "cell_type": "markdown",
   "id": "1f613fed-6c3c-4fbc-84db-f12cb7b844b6",
   "metadata": {},
   "source": [
    "### 3.3 Dimension 3 (Completeness)\n"
   ]
  },
  {
   "cell_type": "markdown",
   "id": "c764c421-fcbd-4d3b-8f4b-1a98b05291c6",
   "metadata": {},
   "source": [
    "Столбцы 'Violation Code' и  'Violation Description' и 'House Number' и 'Street Name' попарно не должны быть пустыми для сохранения логической целостности данных"
   ]
  },
  {
   "cell_type": "code",
   "execution_count": 12,
   "id": "a37c3224-cd22-45ba-9fcb-145cacd8a3ed",
   "metadata": {},
   "outputs": [
    {
     "data": {
      "text/plain": [
       "Violation Code                 0\n",
       "Violation Description    1139337\n",
       "dtype: int64"
      ]
     },
     "execution_count": 12,
     "metadata": {},
     "output_type": "execute_result"
    }
   ],
   "source": [
    "df2016[['Violation Code', 'Violation Description']].isna().sum()"
   ]
  },
  {
   "cell_type": "code",
   "execution_count": 13,
   "id": "689c7905-2197-45ca-a856-be2dba75ad0c",
   "metadata": {},
   "outputs": [
    {
     "data": {
      "text/plain": [
       "House Number    2033420\n",
       "Street Name        8274\n",
       "dtype: int64"
      ]
     },
     "execution_count": 13,
     "metadata": {},
     "output_type": "execute_result"
    }
   ],
   "source": [
    "df2016[['House Number', 'Street Name']].isna().sum()"
   ]
  },
  {
   "cell_type": "markdown",
   "id": "722ed357-835f-4003-b764-3f639af050c4",
   "metadata": {},
   "source": [
    "### 3.4 Dimension 4 (Uniqueness)"
   ]
  },
  {
   "cell_type": "markdown",
   "id": "669dddbe-c19f-4cff-a8ca-a25d6b2c3f5e",
   "metadata": {},
   "source": [
    "В DF существуют различные варианты написания цветов авто (сокращения, ошибки, описки)"
   ]
  },
  {
   "cell_type": "code",
   "execution_count": 14,
   "id": "25406707-9f93-4635-86e0-c8afef8d89bf",
   "metadata": {},
   "outputs": [
    {
     "data": {
      "text/html": [
       "<div>\n",
       "<style scoped>\n",
       "    .dataframe tbody tr th:only-of-type {\n",
       "        vertical-align: middle;\n",
       "    }\n",
       "\n",
       "    .dataframe tbody tr th {\n",
       "        vertical-align: top;\n",
       "    }\n",
       "\n",
       "    .dataframe thead th {\n",
       "        text-align: right;\n",
       "    }\n",
       "</style>\n",
       "<table border=\"1\" class=\"dataframe\">\n",
       "  <thead>\n",
       "    <tr style=\"text-align: right;\">\n",
       "      <th></th>\n",
       "      <th>count</th>\n",
       "    </tr>\n",
       "    <tr>\n",
       "      <th>Vehicle Color</th>\n",
       "      <th></th>\n",
       "    </tr>\n",
       "  </thead>\n",
       "  <tbody>\n",
       "    <tr>\n",
       "      <th>BK</th>\n",
       "      <td>1312004</td>\n",
       "    </tr>\n",
       "    <tr>\n",
       "      <th>BL</th>\n",
       "      <td>551057</td>\n",
       "    </tr>\n",
       "    <tr>\n",
       "      <th>BLACK</th>\n",
       "      <td>681848</td>\n",
       "    </tr>\n",
       "    <tr>\n",
       "      <th>BLK</th>\n",
       "      <td>77177</td>\n",
       "    </tr>\n",
       "    <tr>\n",
       "      <th>BLUE</th>\n",
       "      <td>284579</td>\n",
       "    </tr>\n",
       "    <tr>\n",
       "      <th>BR</th>\n",
       "      <td>86364</td>\n",
       "    </tr>\n",
       "    <tr>\n",
       "      <th>BROWN</th>\n",
       "      <td>298121</td>\n",
       "    </tr>\n",
       "    <tr>\n",
       "      <th>GR</th>\n",
       "      <td>213001</td>\n",
       "    </tr>\n",
       "    <tr>\n",
       "      <th>GRAY</th>\n",
       "      <td>67427</td>\n",
       "    </tr>\n",
       "    <tr>\n",
       "      <th>GREEN</th>\n",
       "      <td>134586</td>\n",
       "    </tr>\n",
       "    <tr>\n",
       "      <th>GREY</th>\n",
       "      <td>405448</td>\n",
       "    </tr>\n",
       "    <tr>\n",
       "      <th>GY</th>\n",
       "      <td>1603940</td>\n",
       "    </tr>\n",
       "    <tr>\n",
       "      <th>OTHER</th>\n",
       "      <td>111617</td>\n",
       "    </tr>\n",
       "    <tr>\n",
       "      <th>RD</th>\n",
       "      <td>349860</td>\n",
       "    </tr>\n",
       "    <tr>\n",
       "      <th>RED</th>\n",
       "      <td>257919</td>\n",
       "    </tr>\n",
       "    <tr>\n",
       "      <th>SILVE</th>\n",
       "      <td>304719</td>\n",
       "    </tr>\n",
       "    <tr>\n",
       "      <th>TN</th>\n",
       "      <td>139866</td>\n",
       "    </tr>\n",
       "    <tr>\n",
       "      <th>WH</th>\n",
       "      <td>1547279</td>\n",
       "    </tr>\n",
       "    <tr>\n",
       "      <th>WHITE</th>\n",
       "      <td>1399108</td>\n",
       "    </tr>\n",
       "    <tr>\n",
       "      <th>YW</th>\n",
       "      <td>88487</td>\n",
       "    </tr>\n",
       "  </tbody>\n",
       "</table>\n",
       "</div>"
      ],
      "text/plain": [
       "                 count\n",
       "Vehicle Color         \n",
       "BK             1312004\n",
       "BL              551057\n",
       "BLACK           681848\n",
       "BLK              77177\n",
       "BLUE            284579\n",
       "BR               86364\n",
       "BROWN           298121\n",
       "GR              213001\n",
       "GRAY             67427\n",
       "GREEN           134586\n",
       "GREY            405448\n",
       "GY             1603940\n",
       "OTHER           111617\n",
       "RD              349860\n",
       "RED             257919\n",
       "SILVE           304719\n",
       "TN              139866\n",
       "WH             1547279\n",
       "WHITE          1399108\n",
       "YW               88487"
      ]
     },
     "execution_count": 14,
     "metadata": {},
     "output_type": "execute_result"
    }
   ],
   "source": [
    "df2016.groupby('Vehicle Color').agg({'Vehicle Color': 'count'}).rename(columns={'Vehicle Color':'count'}).sort_values(by='count', ascending=False).head(20).sort_index()"
   ]
  },
  {
   "cell_type": "markdown",
   "id": "3755a739-b593-4619-bf53-05000423a6e8",
   "metadata": {},
   "source": [
    "### 3.5 Dimension 5 (Validity)"
   ]
  },
  {
   "cell_type": "markdown",
   "id": "5c638c65-db9f-4606-bb5b-39bd591ad5f6",
   "metadata": {},
   "source": [
    "Данные по смыслу являющиеся датой представлены \"float64\". "
   ]
  },
  {
   "cell_type": "code",
   "execution_count": 15,
   "id": "790c2afa-6cfe-442f-9e63-2b9039a54213",
   "metadata": {},
   "outputs": [
    {
     "data": {
      "text/plain": [
       "dtype('float64')"
      ]
     },
     "execution_count": 15,
     "metadata": {},
     "output_type": "execute_result"
    }
   ],
   "source": [
    "df2016['Vehicle Expiration Date'].dtype"
   ]
  },
  {
   "cell_type": "markdown",
   "id": "c1d1758f-a966-49bc-96ed-c7dadaa52d63",
   "metadata": {},
   "source": [
    "### 3.6 Dimension 6 (Accuracy)"
   ]
  },
  {
   "cell_type": "markdown",
   "id": "d3ad3349-b2c5-4184-ad2b-046642f2c368",
   "metadata": {},
   "source": [
    "Автомобильные номера должны соответствовать реально возможным значениям, длина номера обычно свыше 3 знаков и включает в себя числа и буквы.  \n",
    "Исключить можно номера только из цифр, короче 3 знаков, а также пустые (nan) и без номеров ('BLANKPLATE')"
   ]
  },
  {
   "cell_type": "code",
   "execution_count": 16,
   "id": "7f391c36-cbba-4d20-866b-d7b13e453439",
   "metadata": {},
   "outputs": [
    {
     "data": {
      "text/plain": [
       "Plate ID\n",
       "1.0         131\n",
       "2.0        1728\n",
       "3.0        7942\n",
       "4.0       13380\n",
       "5.0      146069\n",
       "6.0     1607971\n",
       "7.0     8477259\n",
       "8.0      352036\n",
       "9.0         321\n",
       "10.0      17898\n",
       "Name: Plate ID, dtype: int64"
      ]
     },
     "execution_count": 16,
     "metadata": {},
     "output_type": "execute_result"
    }
   ],
   "source": [
    "df2016.groupby(by=df2016['Plate ID'].str.len())['Plate ID'].count()"
   ]
  },
  {
   "cell_type": "code",
   "execution_count": 18,
   "id": "5086e664-b277-44ee-8a20-f5fef22a75b2",
   "metadata": {},
   "outputs": [
    {
     "data": {
      "text/plain": [
       "Plate ID    196824\n",
       "dtype: int64"
      ]
     },
     "execution_count": 18,
     "metadata": {},
     "output_type": "execute_result"
    }
   ],
   "source": [
    "df2016[~df2016['Plate ID'].str.contains('[A-z]',na=False, case=False, regex=True)][['Plate ID']].count()"
   ]
  }
 ],
 "metadata": {
  "kernelspec": {
   "display_name": "Python 3 (ipykernel)",
   "language": "python",
   "name": "python3"
  },
  "language_info": {
   "codemirror_mode": {
    "name": "ipython",
    "version": 3
   },
   "file_extension": ".py",
   "mimetype": "text/x-python",
   "name": "python",
   "nbconvert_exporter": "python",
   "pygments_lexer": "ipython3",
   "version": "3.9.7"
  },
  "toc-showmarkdowntxt": false
 },
 "nbformat": 4,
 "nbformat_minor": 5
}
