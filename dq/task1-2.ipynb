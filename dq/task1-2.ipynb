{
 "cells": [
  {
   "cell_type": "code",
   "execution_count": 1,
   "id": "4c85a733-c1f6-4867-a4b6-c73f21048c38",
   "metadata": {},
   "outputs": [],
   "source": [
    "import pandas as pd"
   ]
  },
  {
   "cell_type": "code",
   "execution_count": 2,
   "id": "ad138e84-cefe-43d1-9c06-92b5f78e3d88",
   "metadata": {},
   "outputs": [
    {
     "name": "stderr",
     "output_type": "stream",
     "text": [
      "d:\\piggy\\appdata\\local\\programs\\python\\python39\\lib\\site-packages\\IPython\\core\\interactiveshell.py:3169: DtypeWarning: Columns (18,38) have mixed types.Specify dtype option on import or set low_memory=False.\n",
      "  has_raised = await self.run_ast_nodes(code_ast.body, cell_name,\n"
     ]
    }
   ],
   "source": [
    "df = pd.read_csv(\"Parking_Violations_Issued_-_Fiscal_Year_2017.csv\")"
   ]
  },
  {
   "cell_type": "code",
   "execution_count": 3,
   "id": "12fe1d21-d56a-4588-a693-ac9b5f3f38ee",
   "metadata": {},
   "outputs": [
    {
     "name": "stdout",
     "output_type": "stream",
     "text": [
      "<class 'pandas.core.frame.DataFrame'>\n",
      "RangeIndex: 10803028 entries, 0 to 10803027\n",
      "Data columns (total 43 columns):\n",
      " #   Column                             Dtype  \n",
      "---  ------                             -----  \n",
      " 0   Summons Number                     int64  \n",
      " 1   Plate ID                           object \n",
      " 2   Registration State                 object \n",
      " 3   Plate Type                         object \n",
      " 4   Issue Date                         object \n",
      " 5   Violation Code                     int64  \n",
      " 6   Vehicle Body Type                  object \n",
      " 7   Vehicle Make                       object \n",
      " 8   Issuing Agency                     object \n",
      " 9   Street Code1                       int64  \n",
      " 10  Street Code2                       int64  \n",
      " 11  Street Code3                       int64  \n",
      " 12  Vehicle Expiration Date            int64  \n",
      " 13  Violation Location                 float64\n",
      " 14  Violation Precinct                 int64  \n",
      " 15  Issuer Precinct                    int64  \n",
      " 16  Issuer Code                        int64  \n",
      " 17  Issuer Command                     object \n",
      " 18  Issuer Squad                       object \n",
      " 19  Violation Time                     object \n",
      " 20  Time First Observed                object \n",
      " 21  Violation County                   object \n",
      " 22  Violation In Front Of Or Opposite  object \n",
      " 23  House Number                       object \n",
      " 24  Street Name                        object \n",
      " 25  Intersecting Street                object \n",
      " 26  Date First Observed                int64  \n",
      " 27  Law Section                        int64  \n",
      " 28  Sub Division                       object \n",
      " 29  Violation Legal Code               object \n",
      " 30  Days Parking In Effect             object \n",
      " 31  From Hours In Effect               object \n",
      " 32  To Hours In Effect                 object \n",
      " 33  Vehicle Color                      object \n",
      " 34  Unregistered Vehicle?              float64\n",
      " 35  Vehicle Year                       int64  \n",
      " 36  Meter Number                       object \n",
      " 37  Feet From Curb                     int64  \n",
      " 38  Violation Post Code                object \n",
      " 39  Violation Description              object \n",
      " 40  No Standing or Stopping Violation  float64\n",
      " 41  Hydrant Violation                  float64\n",
      " 42  Double Parking Violation           float64\n",
      "dtypes: float64(5), int64(13), object(25)\n",
      "memory usage: 3.5+ GB\n"
     ]
    }
   ],
   "source": [
    "df.info()"
   ]
  },
  {
   "cell_type": "markdown",
   "id": "5ac6b583-2c4d-49af-a795-7e54429f3dbe",
   "metadata": {},
   "source": [
    "# TASK #1"
   ]
  },
  {
   "cell_type": "markdown",
   "id": "0e045445-297a-4267-b3fc-7767770e8f35",
   "metadata": {},
   "source": [
    "## Dimension 1 (Consistency)\n",
    "\n",
    "1. The numbers of houses exist for every row.  \n",
    "\n",
    "2. \"Registration state\" exist for every row as two letters (example “CA”). "
   ]
  },
  {
   "cell_type": "code",
   "execution_count": 4,
   "id": "9c437f62-ee37-4d2a-a2c0-633a54048f61",
   "metadata": {},
   "outputs": [
    {
     "data": {
      "text/plain": [
       "2288618"
      ]
     },
     "execution_count": 4,
     "metadata": {},
     "output_type": "execute_result"
    }
   ],
   "source": [
    "df['House Number'].isnull().sum()"
   ]
  },
  {
   "cell_type": "code",
   "execution_count": 5,
   "id": "e1704d64-a86f-49c8-8bf2-8fd96684bf4f",
   "metadata": {},
   "outputs": [
    {
     "data": {
      "text/plain": [
       "0"
      ]
     },
     "execution_count": 5,
     "metadata": {},
     "output_type": "execute_result"
    }
   ],
   "source": [
    "(df['Registration State'].apply(len) != 2).sum()"
   ]
  },
  {
   "cell_type": "code",
   "execution_count": 6,
   "id": "97075f08-6111-438a-95cd-2fe4e57b5670",
   "metadata": {},
   "outputs": [
    {
     "data": {
      "text/plain": [
       "array(['99', 'AB', 'AK', 'AL', 'AR', 'AZ', 'BC', 'CA', 'CO', 'CT', 'DC',\n",
       "       'DE', 'DP', 'FL', 'FO', 'GA', 'GV', 'HI', 'IA', 'ID', 'IL', 'IN',\n",
       "       'KS', 'KY', 'LA', 'MA', 'MB', 'MD', 'ME', 'MI', 'MN', 'MO', 'MS',\n",
       "       'MT', 'MX', 'NB', 'NC', 'ND', 'NE', 'NH', 'NJ', 'NM', 'NS', 'NT',\n",
       "       'NV', 'NY', 'OH', 'OK', 'ON', 'OR', 'PA', 'PE', 'PR', 'QB', 'RI',\n",
       "       'SC', 'SD', 'SK', 'TN', 'TX', 'UT', 'VA', 'VT', 'WA', 'WI', 'WV',\n",
       "       'WY'], dtype=object)"
      ]
     },
     "execution_count": 6,
     "metadata": {},
     "output_type": "execute_result"
    }
   ],
   "source": [
    "df['Registration State'].sort_values().unique()"
   ]
  },
  {
   "cell_type": "code",
   "execution_count": 7,
   "id": "8df3c956-19b0-49ff-ad29-ed3ca94b1d88",
   "metadata": {},
   "outputs": [
    {
     "data": {
      "text/plain": [
       "36625"
      ]
     },
     "execution_count": 7,
     "metadata": {},
     "output_type": "execute_result"
    }
   ],
   "source": [
    "df[df['Registration State'] == '99']['Registration State'].count()"
   ]
  },
  {
   "cell_type": "markdown",
   "id": "8bd34326-5994-4824-8412-543180cdc1d1",
   "metadata": {},
   "source": [
    "## Dimension 2 (Timeliness)\n",
    "1. We do not need data from any year but 2017.\n"
   ]
  },
  {
   "cell_type": "code",
   "execution_count": 8,
   "id": "c14bb5a1-4692-44d5-b7fa-749a75dad140",
   "metadata": {},
   "outputs": [
    {
     "data": {
      "text/plain": [
       "2017    5431918\n",
       "2016    5368391\n",
       "2018       1057\n",
       "2019        472\n",
       "2015        419\n",
       "2000        185\n",
       "2014        120\n",
       "Name: Issue Date, dtype: int64"
      ]
     },
     "execution_count": 8,
     "metadata": {},
     "output_type": "execute_result"
    }
   ],
   "source": [
    "pd.to_datetime(df['Issue Date']).dt.year.value_counts().head(7)"
   ]
  },
  {
   "cell_type": "markdown",
   "id": "68cd3adf-e3fe-4829-8646-9cf0a4ffc6e9",
   "metadata": {},
   "source": [
    "## Dimension 3 (Completeness)\n",
    "1. House where violation was captured is present;\n",
    "2. \"Violation description\" should exist.\n"
   ]
  },
  {
   "cell_type": "code",
   "execution_count": 9,
   "id": "32eb30d4-cf11-4d46-99cf-1b2940712720",
   "metadata": {},
   "outputs": [
    {
     "data": {
      "text/plain": [
       "House Number             2288618\n",
       "Violation Description    1127470\n",
       "dtype: int64"
      ]
     },
     "execution_count": 9,
     "metadata": {},
     "output_type": "execute_result"
    }
   ],
   "source": [
    "df[['House Number', 'Violation Description']].isnull().sum()"
   ]
  },
  {
   "cell_type": "code",
   "execution_count": null,
   "id": "b7afff68-9a5f-4800-809e-0504072b478e",
   "metadata": {},
   "outputs": [],
   "source": []
  },
  {
   "cell_type": "markdown",
   "id": "9b7e997e-d2cb-47f8-af13-650e82a8d11b",
   "metadata": {},
   "source": [
    "## Dimension 4 (Uniqueness)\n",
    "1. No double rows, no duplicates."
   ]
  },
  {
   "cell_type": "code",
   "execution_count": 10,
   "id": "6b10e15c-5a91-4edc-a2f8-fa090972211e",
   "metadata": {},
   "outputs": [
    {
     "data": {
      "text/plain": [
       "0"
      ]
     },
     "execution_count": 10,
     "metadata": {},
     "output_type": "execute_result"
    }
   ],
   "source": [
    "df.duplicated().sum()"
   ]
  },
  {
   "cell_type": "markdown",
   "id": "0ba83b7d-17e0-4412-99ab-1b45228e234b",
   "metadata": {},
   "source": [
    "## Dimension 5 (Validity)\n",
    "1. Data types are as described by business:\n",
    "- Numbers: Summons Number, Violation Code, Street Code1, Street Code2, Street Code3, Vehicle Expiration Date, Violation Precinct,  \n",
    "Issuer Precinct, Issuer Code, Date First Observed, Law Section, Vehicle Year, Feet From Curb;\n",
    "- Date & Time: Issue Date;\n",
    "- Plain text: all the rest columns.\n",
    "\n",
    "Additionally: Check for outliers (deviations);\n"
   ]
  },
  {
   "cell_type": "code",
   "execution_count": 11,
   "id": "e41bc641-52af-4aca-a181-06a5fe1a64c6",
   "metadata": {},
   "outputs": [],
   "source": [
    "num_clmn = ['Summons Number', 'Violation Code', 'Street Code1', 'Street Code2', 'Street Code3', 'Vehicle Expiration Date', 'Violation Precinct',\n",
    "'Issuer Precinct', 'Issuer Code', 'Date First Observed', 'Law Section', 'Vehicle Year', 'Feet From Curb']\n",
    "dt_clmn = ['Issue Date']\n",
    "text_clmn = list(set(df.columns) - set(num_clmn) - set(dt_clmn))\n",
    "\n",
    "numbers = []\n",
    "date_time = []\n",
    "p_text = []\n",
    "for c in df.columns:\n",
    "    if df[c].dtype == 'int64' or df[c].dtype == 'float64':\n",
    "        numbers.append(c)\n",
    "    elif df[c].dtype == 'datetime64':\n",
    "        date_time.append(c)\n",
    "    else:\n",
    "        p_text.append(c)"
   ]
  },
  {
   "cell_type": "code",
   "execution_count": 12,
   "id": "140b8c10-406f-412f-9537-286042f769a7",
   "metadata": {},
   "outputs": [],
   "source": [
    "wrong_type = {}\n",
    "def check_type(set1, set2, types):\n",
    "    for s in set1:\n",
    "        if s not in set2:\n",
    "            wrong_type[s] = types\n",
    "            \n",
    "check_type(num_clmn, numbers, 'int64')  \n",
    "check_type(dt_clmn, date_time, 'datetime64')\n",
    "check_type(text_clmn, p_text, 'object')"
   ]
  },
  {
   "cell_type": "code",
   "execution_count": 13,
   "id": "84675944-9ea5-4aea-964a-3d1c5a14213e",
   "metadata": {},
   "outputs": [
    {
     "data": {
      "text/plain": [
       "{'Issue Date': 'datetime64',\n",
       " 'Unregistered Vehicle?': 'object',\n",
       " 'No Standing or Stopping Violation': 'object',\n",
       " 'Violation Location': 'object',\n",
       " 'Hydrant Violation': 'object',\n",
       " 'Double Parking Violation': 'object'}"
      ]
     },
     "execution_count": 13,
     "metadata": {},
     "output_type": "execute_result"
    }
   ],
   "source": [
    "wrong_type"
   ]
  },
  {
   "cell_type": "markdown",
   "id": "32b9f708-6f9d-4aec-9d8c-5858a942461a",
   "metadata": {},
   "source": [
    "**Additionally: Check for outliers (deviations);**"
   ]
  },
  {
   "cell_type": "code",
   "execution_count": 14,
   "id": "1ff68340-0a0a-4a60-b4b9-18fe622b2af8",
   "metadata": {},
   "outputs": [
    {
     "name": "stdout",
     "output_type": "stream",
     "text": [
      "Issuer Squad\n",
      "Violation Post Code\n"
     ]
    }
   ],
   "source": [
    "for c in df.columns:\n",
    "    print(c) if (pd.api.types.infer_dtype(df[c]) == 'mixed') else None"
   ]
  },
  {
   "cell_type": "markdown",
   "id": "5eea8075-0d80-43ac-ae0c-d236d5a56df7",
   "metadata": {},
   "source": [
    "## Dimension 6 (Accuracy)\n",
    "1. The numbers of houses are real."
   ]
  },
  {
   "cell_type": "code",
   "execution_count": 15,
   "id": "2a4b68a5-6bf2-43be-a4d9-0ea0dbdb93d3",
   "metadata": {},
   "outputs": [
    {
     "data": {
      "text/plain": [
       "0      NaN\n",
       "1      NaN\n",
       "2      NaN\n",
       "3      330\n",
       "4      799\n",
       "5      NaN\n",
       "6      439\n",
       "7      NaN\n",
       "8      NaN\n",
       "9      NaN\n",
       "10     126\n",
       "11    1365\n",
       "12     NaN\n",
       "13    1224\n",
       "14     279\n",
       "15     143\n",
       "16     NaN\n",
       "17     204\n",
       "18     330\n",
       "19     NaN\n",
       "Name: House Number, dtype: object"
      ]
     },
     "execution_count": 15,
     "metadata": {},
     "output_type": "execute_result"
    }
   ],
   "source": [
    "df['House Number'].head(20)"
   ]
  },
  {
   "cell_type": "code",
   "execution_count": 16,
   "id": "719e6672-777a-45db-b66b-3848c923b3b7",
   "metadata": {},
   "outputs": [
    {
     "data": {
      "text/plain": [
       "House Number    237\n",
       "dtype: int64"
      ]
     },
     "execution_count": 16,
     "metadata": {},
     "output_type": "execute_result"
    }
   ],
   "source": [
    "df[df['House Number'].str.lower().isin(['one','two', 'three','four', 'five', 'six', 'seven', 'eight', 'nine', 'ten', 'eleven', 'fifteen',\n",
    "                                        'hundred', 'thousend', 'zero'])][['House Number']].count()"
   ]
  },
  {
   "cell_type": "code",
   "execution_count": 17,
   "id": "e0c4cf44-5449-4609-9188-616855d8e272",
   "metadata": {},
   "outputs": [
    {
     "data": {
      "text/plain": [
       "House Number    55\n",
       "dtype: int64"
      ]
     },
     "execution_count": 17,
     "metadata": {},
     "output_type": "execute_result"
    }
   ],
   "source": [
    "df[df['House Number'].str.contains('west|east|south|north| st| ave| sq| blvd| dr| pl| rd| cres',na=False, case=False, regex=True)][['House Number']].count()"
   ]
  },
  {
   "cell_type": "code",
   "execution_count": 18,
   "id": "e5d3cd95-d11f-41ae-ac8d-137c381994be",
   "metadata": {},
   "outputs": [
    {
     "data": {
      "text/plain": [
       "House Number    3472207\n",
       "dtype: int64"
      ]
     },
     "execution_count": 18,
     "metadata": {},
     "output_type": "execute_result"
    }
   ],
   "source": [
    "df[~df['House Number'].str.contains('1|2|3|4|5|6|7|8|9|0',na=False, case=False, regex=True)][['House Number']].notnull().count()"
   ]
  },
  {
   "cell_type": "code",
   "execution_count": null,
   "id": "7431e64c-6af4-4a9f-8060-ac62070fe760",
   "metadata": {},
   "outputs": [],
   "source": []
  },
  {
   "cell_type": "markdown",
   "id": "031e4876-8ef4-4e3c-89ff-d1faf7d20d7f",
   "metadata": {},
   "source": [
    "## Correction DF"
   ]
  },
  {
   "cell_type": "markdown",
   "id": "6b20fe72-37e1-47d0-829b-08cd01d6a29d",
   "metadata": {
    "tags": []
   },
   "source": [
    "### c1.1\n",
    "После первой проверки удаляем все строки, если отсутствует значение 'House Number' и 'Registration State'.\n",
    "А название штата не состоит из двух букв."
   ]
  },
  {
   "cell_type": "code",
   "execution_count": 19,
   "id": "00cdf3d6-37a0-4bf7-b924-0f30d1acb217",
   "metadata": {},
   "outputs": [],
   "source": [
    "df_corr = df.dropna(subset=['House Number', 'Registration State'])"
   ]
  },
  {
   "cell_type": "code",
   "execution_count": 20,
   "id": "7fb849ac-648b-44fb-817b-ce0305e7cf82",
   "metadata": {},
   "outputs": [],
   "source": [
    "# df_corr = df_corr[df_corr['Registration State'] != '99']"
   ]
  },
  {
   "cell_type": "markdown",
   "id": "d5038a40-890b-423f-b267-ad868a5eebea",
   "metadata": {
    "tags": []
   },
   "source": [
    "#### c1.1.1\n",
    "Проверка название штата состоит из двух букв с помощью regex."
   ]
  },
  {
   "cell_type": "code",
   "execution_count": 21,
   "id": "bca78984-efcf-4e7e-a67d-03325ceff512",
   "metadata": {},
   "outputs": [],
   "source": [
    "df_corr = df_corr[df_corr['Registration State'].str.contains(r'\\D{2}', regex=True)]"
   ]
  },
  {
   "cell_type": "code",
   "execution_count": 56,
   "id": "d6c0f031-b095-4fcc-84be-b87a9e53b2c4",
   "metadata": {},
   "outputs": [
    {
     "data": {
      "text/plain": [
       "array(['AK', 'AL', 'AR', 'AZ', 'CA', 'CO', 'CT', 'DC', 'DE', 'FL', 'GA',\n",
       "       'HI', 'IA', 'ID', 'IL', 'IN', 'KS', 'KY', 'LA', 'MA', 'MD', 'ME',\n",
       "       'MI', 'MN', 'MO', 'MS', 'MT', 'NC', 'ND', 'NE', 'NH', 'NJ', 'NM',\n",
       "       'NV', 'NY', 'OH', 'OK', 'OR', 'PA', 'RI', 'SC', 'SD', 'TN', 'TX',\n",
       "       'UT', 'VA', 'VT', 'WA', 'WI', 'WV', 'WY'], dtype=object)"
      ]
     },
     "execution_count": 56,
     "metadata": {},
     "output_type": "execute_result"
    }
   ],
   "source": [
    "df_corr['Registration State'].sort_values().unique()"
   ]
  },
  {
   "cell_type": "markdown",
   "id": "4ee0c942-6478-4d07-8b2b-15c6b13c9c53",
   "metadata": {},
   "source": [
    "### c1.2\n",
    "Второй проверкой удаляем данные за все годы кроме 2017"
   ]
  },
  {
   "cell_type": "code",
   "execution_count": 23,
   "id": "44fef72f-d521-4c1f-91e2-08bf0b00fb7d",
   "metadata": {},
   "outputs": [],
   "source": [
    "df_corr = df_corr.loc[pd.to_datetime(df_corr['Issue Date']).dt.year == 2017]"
   ]
  },
  {
   "cell_type": "code",
   "execution_count": null,
   "id": "9b331298-5121-40a9-a5ac-c3fcc87ca91e",
   "metadata": {},
   "outputs": [],
   "source": []
  },
  {
   "cell_type": "markdown",
   "id": "171da8ce-e8bb-480e-9ec8-6440505a32db",
   "metadata": {},
   "source": [
    "### c1.3\n",
    "Третья проверка наличие описания нарушения при условии заполненности 'House Number'"
   ]
  },
  {
   "cell_type": "code",
   "execution_count": 24,
   "id": "8e89c095-7d78-41e9-a72d-b6a58ffeeaf5",
   "metadata": {},
   "outputs": [],
   "source": [
    "df_corr = df_corr.dropna(subset=['House Number', 'Violation Description'])"
   ]
  },
  {
   "cell_type": "markdown",
   "id": "a5a906ce-c577-4d14-bf53-b987b50727d3",
   "metadata": {},
   "source": [
    "### c1.4\n",
    "Удаление явных дубликатов строк"
   ]
  },
  {
   "cell_type": "code",
   "execution_count": 25,
   "id": "51100068-8a70-4ef5-b305-63019601d06e",
   "metadata": {},
   "outputs": [],
   "source": [
    "df_corr.drop_duplicates(inplace=True)"
   ]
  },
  {
   "cell_type": "markdown",
   "id": "8ceadb81-7349-4933-86e1-8793283672c3",
   "metadata": {},
   "source": [
    "### c1.5\n",
    "Приведение типов данных согласно бизнес требованиям"
   ]
  },
  {
   "cell_type": "code",
   "execution_count": 26,
   "id": "7e781ea5-5e96-434e-90a7-2eb47245084f",
   "metadata": {},
   "outputs": [],
   "source": [
    "df_corr = df_corr.astype(wrong_type)"
   ]
  },
  {
   "cell_type": "markdown",
   "id": "cbae3667-161e-4434-88a2-692d45152dc6",
   "metadata": {},
   "source": [
    "### c1.6\n",
    "Проверка соответствия номеров домов \"реальным\" значениям.  \n",
    "Удалены из номеров домов символы [.-/ + `], начальные нули.  \n",
    "Номера представленные в текстовом виде('one','two', 'three' etc) также удалены, но также можно с помощью функции их конвертировать в число, если бы их количество составляло значительную долю от всего DF.\n",
    "Удалены номера в которых отсутвуют числа (номера представлены только буквами).  \n",
    "Удалены строки содержащие кроме номера дома дополнительные данные (улица, район и т.д.)"
   ]
  },
  {
   "cell_type": "code",
   "execution_count": 27,
   "id": "0a1f89be-6fb1-4a8f-88e2-9b87385cb127",
   "metadata": {},
   "outputs": [],
   "source": [
    "df_corr['House Number'] = (df_corr['House Number']\n",
    "            .replace(to_replace=r\"[/'+._`]\", value='', regex=True)\n",
    "            .replace(to_replace=\"^0{1,5}\", value='', regex=True)\n",
    "            .replace(to_replace=\"^-{1,2}\", value='', regex=True)\n",
    "            .replace(to_replace=\"-{2,}\", value='-', regex=True)\n",
    "            .replace(to_replace=\"-$\", value='', regex=True)\n",
    "            .replace(to_replace=\"^0{1,5}\", value='', regex=True)\n",
    "           )\n"
   ]
  },
  {
   "cell_type": "code",
   "execution_count": 28,
   "id": "c0fdb827-7a9a-4381-bc29-0336e43daeac",
   "metadata": {},
   "outputs": [],
   "source": [
    "df_corr = df_corr[~df_corr['House Number'].str.contains(\n",
    "    'west|east|south|north| st| ave| sq| blvd| dr| pl| rd| cres', na=False, case=False, regex=True)]"
   ]
  },
  {
   "cell_type": "code",
   "execution_count": 29,
   "id": "35f79acb-cedf-4330-b71a-13a53b9fba94",
   "metadata": {},
   "outputs": [],
   "source": [
    "df_corr = df_corr[df_corr['House Number'].str.contains('1|2|3|4|5|6|7|8|9|0',na=False, case=False, regex=True)]"
   ]
  },
  {
   "cell_type": "code",
   "execution_count": 30,
   "id": "bb57a211-f040-4a55-8e49-05b8abc55d78",
   "metadata": {},
   "outputs": [],
   "source": [
    "df_corr = df_corr[~df_corr['House Number'].str.lower().isin(['one','two', 'three','four', 'five', 'six', 'seven', 'eight', 'nine', 'ten', 'eleven', 'fifteen',\n",
    "                                        'hundred', 'thousend', 'zero'])]"
   ]
  },
  {
   "cell_type": "markdown",
   "id": "39d4ebdb-d934-4500-995e-f8b76c79f9a7",
   "metadata": {},
   "source": [
    "# TASK #2"
   ]
  },
  {
   "cell_type": "markdown",
   "id": "4063492b-1cfd-4d9b-b4b8-6a31b6cc9e97",
   "metadata": {},
   "source": [
    "Using data described above (2017 year only) filter it according to business rules. As a result, you should receive check results for every business rule with DataFrame containing deviations.  \n",
    "\n",
    "Business rules that out data MUST follow:\n",
    "1. 'Vehicle Make' column should not be 'TOYOT'.\n",
    "2. No fully nulls columns.\n",
    "3. No nulls or 'BLANKPLATE' in the Plate ID column.\n",
    "4. \"Registration state\": should be only from 50 USA states, named as in ANSI standard INCITS 38:2009 (https://en.wikipedia.org/wiki/List_of_U.S._state_and_territory_abbreviations).\n",
    "5. \"Plate type\" only PAS, COM.\n",
    "6. Issue date - convert to dates. Find min/max.\n",
    "7. No unregistered vehicle in the \"Unregistered Vehicle\" column (1 means unregistered vehicle, 0 means registered vehicle).\n"
   ]
  },
  {
   "cell_type": "markdown",
   "id": "335e269e-c54f-45f7-bcbf-5f9dfe8d0635",
   "metadata": {},
   "source": [
    "### c2.1\n",
    "Удалены строки с производителем TOYOT"
   ]
  },
  {
   "cell_type": "code",
   "execution_count": 31,
   "id": "b28f03df-095e-4ce2-9d78-0db25f351a12",
   "metadata": {},
   "outputs": [
    {
     "data": {
      "text/plain": [
       "FORD     420363\n",
       "TOYOT    341399\n",
       "HONDA    312563\n",
       "NISSA    258975\n",
       "CHEVR    231048\n",
       "          ...  \n",
       "ACCO          1\n",
       "CAMR          1\n",
       "ULTR          1\n",
       "FRH           1\n",
       "BAYB          1\n",
       "Name: Vehicle Make, Length: 235, dtype: int64"
      ]
     },
     "execution_count": 31,
     "metadata": {},
     "output_type": "execute_result"
    }
   ],
   "source": [
    "df_corr['Vehicle Make'].value_counts()"
   ]
  },
  {
   "cell_type": "code",
   "execution_count": 32,
   "id": "d28aded1-ee86-42a3-b083-fda1e404ea11",
   "metadata": {},
   "outputs": [],
   "source": [
    "df_corr = df_corr[df_corr['Vehicle Make']!= 'TOYOT']"
   ]
  },
  {
   "cell_type": "markdown",
   "id": "5905757d-f7b8-45ce-a8e5-95314b75e46b",
   "metadata": {},
   "source": [
    "### c2.2\n",
    "Удалены строки полностью заполненные nan значениями"
   ]
  },
  {
   "cell_type": "code",
   "execution_count": 33,
   "id": "e5ff1cff-4880-4087-91d0-63dd3dff90f8",
   "metadata": {},
   "outputs": [
    {
     "data": {
      "text/html": [
       "<div>\n",
       "<style scoped>\n",
       "    .dataframe tbody tr th:only-of-type {\n",
       "        vertical-align: middle;\n",
       "    }\n",
       "\n",
       "    .dataframe tbody tr th {\n",
       "        vertical-align: top;\n",
       "    }\n",
       "\n",
       "    .dataframe thead th {\n",
       "        text-align: right;\n",
       "    }\n",
       "</style>\n",
       "<table border=\"1\" class=\"dataframe\">\n",
       "  <thead>\n",
       "    <tr style=\"text-align: right;\">\n",
       "      <th></th>\n",
       "      <th>Summons Number</th>\n",
       "      <th>Plate ID</th>\n",
       "      <th>Registration State</th>\n",
       "      <th>Plate Type</th>\n",
       "      <th>Issue Date</th>\n",
       "      <th>Violation Code</th>\n",
       "      <th>Vehicle Body Type</th>\n",
       "      <th>Vehicle Make</th>\n",
       "      <th>Issuing Agency</th>\n",
       "      <th>Street Code1</th>\n",
       "      <th>...</th>\n",
       "      <th>Vehicle Color</th>\n",
       "      <th>Unregistered Vehicle?</th>\n",
       "      <th>Vehicle Year</th>\n",
       "      <th>Meter Number</th>\n",
       "      <th>Feet From Curb</th>\n",
       "      <th>Violation Post Code</th>\n",
       "      <th>Violation Description</th>\n",
       "      <th>No Standing or Stopping Violation</th>\n",
       "      <th>Hydrant Violation</th>\n",
       "      <th>Double Parking Violation</th>\n",
       "    </tr>\n",
       "  </thead>\n",
       "  <tbody>\n",
       "    <tr>\n",
       "      <th>0</th>\n",
       "      <td>5092469481</td>\n",
       "      <td>GZH7067</td>\n",
       "      <td>NY</td>\n",
       "      <td>PAS</td>\n",
       "      <td>07/10/2016</td>\n",
       "      <td>7</td>\n",
       "      <td>SUBN</td>\n",
       "      <td>TOYOT</td>\n",
       "      <td>V</td>\n",
       "      <td>0</td>\n",
       "      <td>...</td>\n",
       "      <td>GY</td>\n",
       "      <td>NaN</td>\n",
       "      <td>2001</td>\n",
       "      <td>NaN</td>\n",
       "      <td>0</td>\n",
       "      <td>NaN</td>\n",
       "      <td>FAILURE TO STOP AT RED LIGHT</td>\n",
       "      <td>NaN</td>\n",
       "      <td>NaN</td>\n",
       "      <td>NaN</td>\n",
       "    </tr>\n",
       "    <tr>\n",
       "      <th>1</th>\n",
       "      <td>5092451658</td>\n",
       "      <td>GZH7067</td>\n",
       "      <td>NY</td>\n",
       "      <td>PAS</td>\n",
       "      <td>07/08/2016</td>\n",
       "      <td>7</td>\n",
       "      <td>SUBN</td>\n",
       "      <td>TOYOT</td>\n",
       "      <td>V</td>\n",
       "      <td>0</td>\n",
       "      <td>...</td>\n",
       "      <td>GY</td>\n",
       "      <td>NaN</td>\n",
       "      <td>2001</td>\n",
       "      <td>NaN</td>\n",
       "      <td>0</td>\n",
       "      <td>NaN</td>\n",
       "      <td>FAILURE TO STOP AT RED LIGHT</td>\n",
       "      <td>NaN</td>\n",
       "      <td>NaN</td>\n",
       "      <td>NaN</td>\n",
       "    </tr>\n",
       "    <tr>\n",
       "      <th>2</th>\n",
       "      <td>4006265037</td>\n",
       "      <td>FZX9232</td>\n",
       "      <td>NY</td>\n",
       "      <td>PAS</td>\n",
       "      <td>08/23/2016</td>\n",
       "      <td>5</td>\n",
       "      <td>SUBN</td>\n",
       "      <td>FORD</td>\n",
       "      <td>V</td>\n",
       "      <td>0</td>\n",
       "      <td>...</td>\n",
       "      <td>BK</td>\n",
       "      <td>NaN</td>\n",
       "      <td>2004</td>\n",
       "      <td>NaN</td>\n",
       "      <td>0</td>\n",
       "      <td>NaN</td>\n",
       "      <td>BUS LANE VIOLATION</td>\n",
       "      <td>NaN</td>\n",
       "      <td>NaN</td>\n",
       "      <td>NaN</td>\n",
       "    </tr>\n",
       "    <tr>\n",
       "      <th>3</th>\n",
       "      <td>8478629828</td>\n",
       "      <td>66623ME</td>\n",
       "      <td>NY</td>\n",
       "      <td>COM</td>\n",
       "      <td>06/14/2017</td>\n",
       "      <td>47</td>\n",
       "      <td>REFG</td>\n",
       "      <td>MITSU</td>\n",
       "      <td>T</td>\n",
       "      <td>10610</td>\n",
       "      <td>...</td>\n",
       "      <td>WH</td>\n",
       "      <td>NaN</td>\n",
       "      <td>2007</td>\n",
       "      <td>NaN</td>\n",
       "      <td>0</td>\n",
       "      <td>04</td>\n",
       "      <td>47-Double PKG-Midtown</td>\n",
       "      <td>NaN</td>\n",
       "      <td>NaN</td>\n",
       "      <td>NaN</td>\n",
       "    </tr>\n",
       "    <tr>\n",
       "      <th>4</th>\n",
       "      <td>7868300310</td>\n",
       "      <td>37033JV</td>\n",
       "      <td>NY</td>\n",
       "      <td>COM</td>\n",
       "      <td>11/21/2016</td>\n",
       "      <td>69</td>\n",
       "      <td>DELV</td>\n",
       "      <td>INTER</td>\n",
       "      <td>T</td>\n",
       "      <td>10510</td>\n",
       "      <td>...</td>\n",
       "      <td>WHITE</td>\n",
       "      <td>NaN</td>\n",
       "      <td>2007</td>\n",
       "      <td>NaN</td>\n",
       "      <td>0</td>\n",
       "      <td>31 6</td>\n",
       "      <td>69-Failure to Disp Muni Recpt</td>\n",
       "      <td>NaN</td>\n",
       "      <td>NaN</td>\n",
       "      <td>NaN</td>\n",
       "    </tr>\n",
       "    <tr>\n",
       "      <th>...</th>\n",
       "      <td>...</td>\n",
       "      <td>...</td>\n",
       "      <td>...</td>\n",
       "      <td>...</td>\n",
       "      <td>...</td>\n",
       "      <td>...</td>\n",
       "      <td>...</td>\n",
       "      <td>...</td>\n",
       "      <td>...</td>\n",
       "      <td>...</td>\n",
       "      <td>...</td>\n",
       "      <td>...</td>\n",
       "      <td>...</td>\n",
       "      <td>...</td>\n",
       "      <td>...</td>\n",
       "      <td>...</td>\n",
       "      <td>...</td>\n",
       "      <td>...</td>\n",
       "      <td>...</td>\n",
       "      <td>...</td>\n",
       "      <td>...</td>\n",
       "    </tr>\n",
       "    <tr>\n",
       "      <th>10803023</th>\n",
       "      <td>1415891400</td>\n",
       "      <td>HGK6453</td>\n",
       "      <td>NJ</td>\n",
       "      <td>PAS</td>\n",
       "      <td>11/02/2068</td>\n",
       "      <td>21</td>\n",
       "      <td>SDN</td>\n",
       "      <td>HONDA</td>\n",
       "      <td>S</td>\n",
       "      <td>17380</td>\n",
       "      <td>...</td>\n",
       "      <td>BLACK</td>\n",
       "      <td>0.0</td>\n",
       "      <td>0</td>\n",
       "      <td>-</td>\n",
       "      <td>0</td>\n",
       "      <td>NaN</td>\n",
       "      <td>NaN</td>\n",
       "      <td>NaN</td>\n",
       "      <td>NaN</td>\n",
       "      <td>NaN</td>\n",
       "    </tr>\n",
       "    <tr>\n",
       "      <th>10803024</th>\n",
       "      <td>1384716543</td>\n",
       "      <td>GRA6240</td>\n",
       "      <td>NY</td>\n",
       "      <td>PAS</td>\n",
       "      <td>07/12/2069</td>\n",
       "      <td>20</td>\n",
       "      <td>SUBN</td>\n",
       "      <td>TOYOT</td>\n",
       "      <td>X</td>\n",
       "      <td>93830</td>\n",
       "      <td>...</td>\n",
       "      <td>GRAY</td>\n",
       "      <td>0.0</td>\n",
       "      <td>2007</td>\n",
       "      <td>-</td>\n",
       "      <td>0</td>\n",
       "      <td>NaN</td>\n",
       "      <td>NaN</td>\n",
       "      <td>NaN</td>\n",
       "      <td>NaN</td>\n",
       "      <td>NaN</td>\n",
       "    </tr>\n",
       "    <tr>\n",
       "      <th>10803025</th>\n",
       "      <td>1413536554</td>\n",
       "      <td>RC8S28</td>\n",
       "      <td>PA</td>\n",
       "      <td>PAS</td>\n",
       "      <td>08/14/2069</td>\n",
       "      <td>46</td>\n",
       "      <td>SUBN</td>\n",
       "      <td>NaN</td>\n",
       "      <td>P</td>\n",
       "      <td>37980</td>\n",
       "      <td>...</td>\n",
       "      <td>RED</td>\n",
       "      <td>0.0</td>\n",
       "      <td>0</td>\n",
       "      <td>-</td>\n",
       "      <td>0</td>\n",
       "      <td>NaN</td>\n",
       "      <td>NaN</td>\n",
       "      <td>NaN</td>\n",
       "      <td>NaN</td>\n",
       "      <td>NaN</td>\n",
       "    </tr>\n",
       "    <tr>\n",
       "      <th>10803026</th>\n",
       "      <td>1415514203</td>\n",
       "      <td>HGU9544</td>\n",
       "      <td>NY</td>\n",
       "      <td>PAS</td>\n",
       "      <td>11/15/2069</td>\n",
       "      <td>40</td>\n",
       "      <td>SUBN</td>\n",
       "      <td>JEEP</td>\n",
       "      <td>P</td>\n",
       "      <td>0</td>\n",
       "      <td>...</td>\n",
       "      <td>BROWN</td>\n",
       "      <td>0.0</td>\n",
       "      <td>2011</td>\n",
       "      <td>-</td>\n",
       "      <td>0</td>\n",
       "      <td>NaN</td>\n",
       "      <td>NaN</td>\n",
       "      <td>NaN</td>\n",
       "      <td>NaN</td>\n",
       "      <td>NaN</td>\n",
       "    </tr>\n",
       "    <tr>\n",
       "      <th>10803027</th>\n",
       "      <td>1415995370</td>\n",
       "      <td>GPP1608</td>\n",
       "      <td>NY</td>\n",
       "      <td>PAS</td>\n",
       "      <td>11/19/2069</td>\n",
       "      <td>21</td>\n",
       "      <td>SDN</td>\n",
       "      <td>TOYOT</td>\n",
       "      <td>S</td>\n",
       "      <td>38080</td>\n",
       "      <td>...</td>\n",
       "      <td>GRAY</td>\n",
       "      <td>0.0</td>\n",
       "      <td>2011</td>\n",
       "      <td>-</td>\n",
       "      <td>0</td>\n",
       "      <td>NaN</td>\n",
       "      <td>NaN</td>\n",
       "      <td>NaN</td>\n",
       "      <td>NaN</td>\n",
       "      <td>NaN</td>\n",
       "    </tr>\n",
       "  </tbody>\n",
       "</table>\n",
       "<p>10803028 rows × 43 columns</p>\n",
       "</div>"
      ],
      "text/plain": [
       "          Summons Number Plate ID Registration State Plate Type  Issue Date  \\\n",
       "0             5092469481  GZH7067                 NY        PAS  07/10/2016   \n",
       "1             5092451658  GZH7067                 NY        PAS  07/08/2016   \n",
       "2             4006265037  FZX9232                 NY        PAS  08/23/2016   \n",
       "3             8478629828  66623ME                 NY        COM  06/14/2017   \n",
       "4             7868300310  37033JV                 NY        COM  11/21/2016   \n",
       "...                  ...      ...                ...        ...         ...   \n",
       "10803023      1415891400  HGK6453                 NJ        PAS  11/02/2068   \n",
       "10803024      1384716543  GRA6240                 NY        PAS  07/12/2069   \n",
       "10803025      1413536554   RC8S28                 PA        PAS  08/14/2069   \n",
       "10803026      1415514203  HGU9544                 NY        PAS  11/15/2069   \n",
       "10803027      1415995370  GPP1608                 NY        PAS  11/19/2069   \n",
       "\n",
       "          Violation Code Vehicle Body Type Vehicle Make Issuing Agency  \\\n",
       "0                      7              SUBN        TOYOT              V   \n",
       "1                      7              SUBN        TOYOT              V   \n",
       "2                      5              SUBN         FORD              V   \n",
       "3                     47              REFG        MITSU              T   \n",
       "4                     69              DELV        INTER              T   \n",
       "...                  ...               ...          ...            ...   \n",
       "10803023              21               SDN        HONDA              S   \n",
       "10803024              20              SUBN        TOYOT              X   \n",
       "10803025              46              SUBN          NaN              P   \n",
       "10803026              40              SUBN         JEEP              P   \n",
       "10803027              21               SDN        TOYOT              S   \n",
       "\n",
       "          Street Code1  ...  Vehicle Color  Unregistered Vehicle?  \\\n",
       "0                    0  ...             GY                    NaN   \n",
       "1                    0  ...             GY                    NaN   \n",
       "2                    0  ...             BK                    NaN   \n",
       "3                10610  ...             WH                    NaN   \n",
       "4                10510  ...          WHITE                    NaN   \n",
       "...                ...  ...            ...                    ...   \n",
       "10803023         17380  ...          BLACK                    0.0   \n",
       "10803024         93830  ...           GRAY                    0.0   \n",
       "10803025         37980  ...            RED                    0.0   \n",
       "10803026             0  ...          BROWN                    0.0   \n",
       "10803027         38080  ...           GRAY                    0.0   \n",
       "\n",
       "          Vehicle Year  Meter Number  Feet From Curb  Violation Post Code  \\\n",
       "0                 2001           NaN               0                  NaN   \n",
       "1                 2001           NaN               0                  NaN   \n",
       "2                 2004           NaN               0                  NaN   \n",
       "3                 2007           NaN               0                   04   \n",
       "4                 2007           NaN               0                 31 6   \n",
       "...                ...           ...             ...                  ...   \n",
       "10803023             0             -               0                  NaN   \n",
       "10803024          2007             -               0                  NaN   \n",
       "10803025             0             -               0                  NaN   \n",
       "10803026          2011             -               0                  NaN   \n",
       "10803027          2011             -               0                  NaN   \n",
       "\n",
       "                  Violation Description No Standing or Stopping Violation  \\\n",
       "0          FAILURE TO STOP AT RED LIGHT                               NaN   \n",
       "1          FAILURE TO STOP AT RED LIGHT                               NaN   \n",
       "2                    BUS LANE VIOLATION                               NaN   \n",
       "3                 47-Double PKG-Midtown                               NaN   \n",
       "4         69-Failure to Disp Muni Recpt                               NaN   \n",
       "...                                 ...                               ...   \n",
       "10803023                            NaN                               NaN   \n",
       "10803024                            NaN                               NaN   \n",
       "10803025                            NaN                               NaN   \n",
       "10803026                            NaN                               NaN   \n",
       "10803027                            NaN                               NaN   \n",
       "\n",
       "         Hydrant Violation Double Parking Violation  \n",
       "0                      NaN                      NaN  \n",
       "1                      NaN                      NaN  \n",
       "2                      NaN                      NaN  \n",
       "3                      NaN                      NaN  \n",
       "4                      NaN                      NaN  \n",
       "...                    ...                      ...  \n",
       "10803023               NaN                      NaN  \n",
       "10803024               NaN                      NaN  \n",
       "10803025               NaN                      NaN  \n",
       "10803026               NaN                      NaN  \n",
       "10803027               NaN                      NaN  \n",
       "\n",
       "[10803028 rows x 43 columns]"
      ]
     },
     "execution_count": 33,
     "metadata": {},
     "output_type": "execute_result"
    }
   ],
   "source": [
    "df.dropna(how='all')"
   ]
  },
  {
   "cell_type": "markdown",
   "id": "fe5feb45-5afb-4449-95ca-213e9ab3376a",
   "metadata": {},
   "source": [
    "#### c2.2.1\n",
    "Удалены колонки полностью заполненные nan значениями"
   ]
  },
  {
   "cell_type": "code",
   "execution_count": 34,
   "id": "d2f782be-dcf9-46aa-83ef-9e146e95e2fc",
   "metadata": {},
   "outputs": [
    {
     "data": {
      "text/plain": [
       "43"
      ]
     },
     "execution_count": 34,
     "metadata": {},
     "output_type": "execute_result"
    }
   ],
   "source": [
    "len(df_corr.columns)"
   ]
  },
  {
   "cell_type": "code",
   "execution_count": 35,
   "id": "2dfd6918-f01f-4624-b1ca-abe71135bee1",
   "metadata": {},
   "outputs": [],
   "source": [
    "df_corr.dropna(axis=1, how='all', inplace=True)"
   ]
  },
  {
   "cell_type": "code",
   "execution_count": 36,
   "id": "4f4bfa9f-3027-45a8-9d19-2bc2502f9586",
   "metadata": {},
   "outputs": [
    {
     "data": {
      "text/plain": [
       "39"
      ]
     },
     "execution_count": 36,
     "metadata": {},
     "output_type": "execute_result"
    }
   ],
   "source": [
    "len(df_corr.columns)"
   ]
  },
  {
   "cell_type": "markdown",
   "id": "65a6d3b7-8590-4fca-81cd-90d43ef66f95",
   "metadata": {
    "tags": []
   },
   "source": [
    "### c2.3\n",
    "Проверка заполненности столбца Plate ID"
   ]
  },
  {
   "cell_type": "code",
   "execution_count": 37,
   "id": "de44b648-a60a-468e-b861-8d315f3f7566",
   "metadata": {},
   "outputs": [
    {
     "data": {
      "text/plain": [
       "0"
      ]
     },
     "execution_count": 37,
     "metadata": {},
     "output_type": "execute_result"
    }
   ],
   "source": [
    "df_corr[df_corr['Plate ID'].str.lower() == 'BLANKPLATE'.lower()]['Plate ID'].count()"
   ]
  },
  {
   "cell_type": "code",
   "execution_count": 38,
   "id": "f7449621-90dc-42f7-b04b-4e7afdcf1cae",
   "metadata": {},
   "outputs": [
    {
     "data": {
      "text/plain": [
       "0"
      ]
     },
     "execution_count": 38,
     "metadata": {},
     "output_type": "execute_result"
    }
   ],
   "source": [
    "df_corr[df_corr['Plate ID'].isnull()]['Plate ID'].count()"
   ]
  },
  {
   "cell_type": "code",
   "execution_count": 39,
   "id": "73fad15d-5c44-4ddf-8c3b-559afcae97ea",
   "metadata": {},
   "outputs": [],
   "source": [
    "df_corr = df_corr[df_corr['Plate ID'].str.lower() != 'BLANKPLATE'.lower()][~df_corr['Plate ID'].isnull()]"
   ]
  },
  {
   "cell_type": "markdown",
   "id": "f8ed3f27-96ca-459e-9b69-40d95301c1a3",
   "metadata": {},
   "source": [
    "### c2.4\n",
    "Проверка правильности заполнения столбца 'Registration State' в соответствии с ANSI standard INCITS 38:2009"
   ]
  },
  {
   "cell_type": "code",
   "execution_count": 40,
   "id": "ccb83f57-fdfe-448b-973f-6747fd81a8be",
   "metadata": {},
   "outputs": [
    {
     "data": {
      "text/html": [
       "<div>\n",
       "<style scoped>\n",
       "    .dataframe tbody tr th:only-of-type {\n",
       "        vertical-align: middle;\n",
       "    }\n",
       "\n",
       "    .dataframe tbody tr th {\n",
       "        vertical-align: top;\n",
       "    }\n",
       "\n",
       "    .dataframe thead th {\n",
       "        text-align: right;\n",
       "    }\n",
       "</style>\n",
       "<table border=\"1\" class=\"dataframe\">\n",
       "  <thead>\n",
       "    <tr style=\"text-align: right;\">\n",
       "      <th></th>\n",
       "      <th>name</th>\n",
       "      <th>num</th>\n",
       "      <th>code</th>\n",
       "    </tr>\n",
       "  </thead>\n",
       "  <tbody>\n",
       "    <tr>\n",
       "      <th>0</th>\n",
       "      <td>Alabama</td>\n",
       "      <td>1</td>\n",
       "      <td>AL</td>\n",
       "    </tr>\n",
       "    <tr>\n",
       "      <th>1</th>\n",
       "      <td>Alaska</td>\n",
       "      <td>2</td>\n",
       "      <td>AK</td>\n",
       "    </tr>\n",
       "    <tr>\n",
       "      <th>2</th>\n",
       "      <td>Arizona</td>\n",
       "      <td>4</td>\n",
       "      <td>AZ</td>\n",
       "    </tr>\n",
       "    <tr>\n",
       "      <th>3</th>\n",
       "      <td>Arkansas</td>\n",
       "      <td>5</td>\n",
       "      <td>AR</td>\n",
       "    </tr>\n",
       "    <tr>\n",
       "      <th>4</th>\n",
       "      <td>California</td>\n",
       "      <td>6</td>\n",
       "      <td>CA</td>\n",
       "    </tr>\n",
       "  </tbody>\n",
       "</table>\n",
       "</div>"
      ],
      "text/plain": [
       "         name  num code\n",
       "0     Alabama    1   AL\n",
       "1      Alaska    2   AK\n",
       "2     Arizona    4   AZ\n",
       "3    Arkansas    5   AR\n",
       "4  California    6   CA"
      ]
     },
     "execution_count": 40,
     "metadata": {},
     "output_type": "execute_result"
    }
   ],
   "source": [
    "us_states = pd.read_csv('codes.csv', sep=';')\n",
    "us_states.columns = ['name', 'num', 'code']\n",
    "us_states.head()"
   ]
  },
  {
   "cell_type": "code",
   "execution_count": 41,
   "id": "90bebf92-0840-4027-b886-d234aec65191",
   "metadata": {},
   "outputs": [
    {
     "data": {
      "text/plain": [
       "(16,\n",
       " 99    36625\n",
       " ON     5601\n",
       " QB     4406\n",
       " DP     3192\n",
       " NS      730\n",
       " GV      704\n",
       " AB      218\n",
       " NB      137\n",
       " PE      128\n",
       " BC      127\n",
       " PR      110\n",
       " MB       40\n",
       " SK       30\n",
       " FO       12\n",
       " MX        4\n",
       " NT        4\n",
       " Name: Registration State, dtype: int64)"
      ]
     },
     "execution_count": 41,
     "metadata": {},
     "output_type": "execute_result"
    }
   ],
   "source": [
    "wrong_states = df[~df['Registration State'].isin(us_states['code'])]['Registration State'].value_counts()\n",
    "wrong_states.size, wrong_states"
   ]
  },
  {
   "cell_type": "code",
   "execution_count": 42,
   "id": "9d770651-9532-4f49-9b6c-f22d19b68557",
   "metadata": {},
   "outputs": [],
   "source": [
    "df_corr = df_corr[df_corr['Registration State'].isin(us_states['code'])]"
   ]
  },
  {
   "cell_type": "markdown",
   "id": "bcdbb2af-7243-4d07-bed9-a8cb010b8dad",
   "metadata": {},
   "source": [
    "### c2.5\n",
    "Проверка правильности заполнения столбца 'Plate type', допустимые значения PAS и COM"
   ]
  },
  {
   "cell_type": "code",
   "execution_count": 43,
   "id": "6b9a736f-a029-4cec-8169-1c05b5a2b07f",
   "metadata": {},
   "outputs": [
    {
     "data": {
      "text/plain": [
       "PAS    7993499\n",
       "COM    1839534\n",
       "OMT     450185\n",
       "OMS     108568\n",
       "SRF      88713\n",
       "        ...   \n",
       "GAC          2\n",
       "JWV          1\n",
       "HOU          1\n",
       "JCA          1\n",
       "LOC          1\n",
       "Name: Plate Type, Length: 86, dtype: int64"
      ]
     },
     "execution_count": 43,
     "metadata": {},
     "output_type": "execute_result"
    }
   ],
   "source": [
    "df['Plate Type'].value_counts()"
   ]
  },
  {
   "cell_type": "code",
   "execution_count": 44,
   "id": "4be119f4-277b-41c2-8732-31befd6361d9",
   "metadata": {},
   "outputs": [],
   "source": [
    "df_corr  = df_corr[df_corr['Plate Type'].isin(['PAS','COM'])]"
   ]
  },
  {
   "cell_type": "markdown",
   "id": "75e69910-071e-4892-916e-a1b7fa7051ca",
   "metadata": {},
   "source": [
    "### c2.6\n",
    "Приведение к дате столбца Issue date, нахождение максимального и минимального значения"
   ]
  },
  {
   "cell_type": "code",
   "execution_count": 45,
   "id": "d835a6f0-979b-4c50-8667-c17f27a5a7bf",
   "metadata": {},
   "outputs": [
    {
     "data": {
      "text/plain": [
       "dtype('<M8[ns]')"
      ]
     },
     "execution_count": 45,
     "metadata": {},
     "output_type": "execute_result"
    }
   ],
   "source": [
    "df_corr['Issue Date'].dtype"
   ]
  },
  {
   "cell_type": "code",
   "execution_count": 46,
   "id": "9287ae36-5b52-45c1-b6b9-1bb564a72b8e",
   "metadata": {},
   "outputs": [
    {
     "data": {
      "text/plain": [
       "(Timestamp('2017-06-27 00:00:00'), Timestamp('2017-01-01 00:00:00'))"
      ]
     },
     "execution_count": 46,
     "metadata": {},
     "output_type": "execute_result"
    }
   ],
   "source": [
    "df_corr['Issue Date'].max(), df_corr['Issue Date'].min()"
   ]
  },
  {
   "cell_type": "code",
   "execution_count": 47,
   "id": "99ed048e-c293-44f0-b5f8-8878aa47fb5f",
   "metadata": {},
   "outputs": [],
   "source": [
    "df_corr['Issue Date'] = df_corr['Issue Date'].dt.date"
   ]
  },
  {
   "cell_type": "code",
   "execution_count": 48,
   "id": "3ae3303b-1c86-445e-bb3d-2ae120c803b3",
   "metadata": {},
   "outputs": [
    {
     "name": "stdout",
     "output_type": "stream",
     "text": [
      "максимальная дата DF: 2017-06-27\n",
      "минимальная дата DF: 2017-01-01\n"
     ]
    }
   ],
   "source": [
    "print(f\"максимальная дата DF: {df_corr['Issue Date'].max()}\\nминимальная дата DF: {df_corr['Issue Date'].min()}\")"
   ]
  },
  {
   "cell_type": "code",
   "execution_count": 49,
   "id": "5460210c-98a2-45dd-bedd-25501d9c4e56",
   "metadata": {},
   "outputs": [
    {
     "data": {
      "text/plain": [
       "2017-06-15    24312\n",
       "2017-06-20    23488\n",
       "2017-03-21    23250\n",
       "2017-06-22    23093\n",
       "2017-06-02    23017\n",
       "              ...  \n",
       "2017-01-02     1917\n",
       "2017-06-25     1543\n",
       "2017-01-01     1151\n",
       "2017-01-08      604\n",
       "2017-02-09      540\n",
       "Name: Issue Date, Length: 177, dtype: int64"
      ]
     },
     "execution_count": 49,
     "metadata": {},
     "output_type": "execute_result"
    }
   ],
   "source": [
    "df_corr['Issue Date'].value_counts()"
   ]
  },
  {
   "cell_type": "markdown",
   "id": "be0b3ed9-e949-4f28-a458-efb1818fd144",
   "metadata": {},
   "source": [
    "### c2.7\n",
    "Проверка отсутствия в DF незарегистрированных транспортных средств.  \n",
    "90% первоначального DF имеет пропуски данных в столбце 'Unregistered Vehicle?', обработанный DF имеет заполнение только в 120 строках (менее 1%).  \n",
    "Варианты дальнейшей обработки:  \n",
    "- заполнить пропуски также 0, т.к. можно предположить отсутствие явного указания значения признака == True (1) трактовать как == False (0)  \n",
    "- обрабатывать и анализировать выборку только с явным указанием 0, но в связи с ее малым размером данные могут быть сильно искажены.  \n",
    "На мой взгляд предпочтительнее вариант 1, что реализовано далее."
   ]
  },
  {
   "cell_type": "code",
   "execution_count": 50,
   "id": "cea5daa5-117f-453f-a5ed-1f4d0bd71cf7",
   "metadata": {},
   "outputs": [
    {
     "data": {
      "text/plain": [
       "0.0    1127596\n",
       "Name: Unregistered Vehicle?, dtype: int64"
      ]
     },
     "execution_count": 50,
     "metadata": {},
     "output_type": "execute_result"
    }
   ],
   "source": [
    "df['Unregistered Vehicle?'].value_counts()"
   ]
  },
  {
   "cell_type": "code",
   "execution_count": 51,
   "id": "d4193ea3-c9dd-4181-8171-c4e07b688c18",
   "metadata": {},
   "outputs": [
    {
     "data": {
      "text/plain": [
       "9675432"
      ]
     },
     "execution_count": 51,
     "metadata": {},
     "output_type": "execute_result"
    }
   ],
   "source": [
    "df['Unregistered Vehicle?'].isnull().sum()"
   ]
  },
  {
   "cell_type": "code",
   "execution_count": 52,
   "id": "c551f8cd-1936-4633-82cb-e27df66d8555",
   "metadata": {},
   "outputs": [],
   "source": [
    "df_corr['Unregistered Vehicle?'].fillna('0.0', inplace=True)"
   ]
  },
  {
   "cell_type": "code",
   "execution_count": 53,
   "id": "cacc7d77-0986-4c25-8840-743b076bd975",
   "metadata": {},
   "outputs": [
    {
     "data": {
      "text/plain": [
       "0.0    2782109\n",
       "0.0        120\n",
       "Name: Unregistered Vehicle?, dtype: int64"
      ]
     },
     "execution_count": 53,
     "metadata": {},
     "output_type": "execute_result"
    }
   ],
   "source": [
    "df_corr['Unregistered Vehicle?'].value_counts()"
   ]
  },
  {
   "cell_type": "code",
   "execution_count": 54,
   "id": "a0ea4a10-e439-4d65-afe2-28dad8122a7a",
   "metadata": {},
   "outputs": [
    {
     "data": {
      "text/plain": [
       "dtype('O')"
      ]
     },
     "execution_count": 54,
     "metadata": {},
     "output_type": "execute_result"
    }
   ],
   "source": [
    "df_corr['Unregistered Vehicle?'].dtypes"
   ]
  },
  {
   "cell_type": "code",
   "execution_count": 55,
   "id": "21956aa8-5d93-4c85-857b-25ccae453fc2",
   "metadata": {},
   "outputs": [
    {
     "name": "stdout",
     "output_type": "stream",
     "text": [
      "осталось строк 2,782,229\n",
      "удалено строк 8,020,799\n"
     ]
    }
   ],
   "source": [
    "check_n = df_corr['House Number'].count()\n",
    "print('осталось строк {:,d}'.format(check_n))\n",
    "print('удалено строк {:,d}'.format(10803028 - check_n))"
   ]
  },
  {
   "cell_type": "code",
   "execution_count": null,
   "id": "e61832ae-a029-43db-96d5-017173aa105a",
   "metadata": {},
   "outputs": [],
   "source": []
  }
 ],
 "metadata": {
  "kernelspec": {
   "display_name": "Python 3 (ipykernel)",
   "language": "python",
   "name": "python3"
  },
  "language_info": {
   "codemirror_mode": {
    "name": "ipython",
    "version": 3
   },
   "file_extension": ".py",
   "mimetype": "text/x-python",
   "name": "python",
   "nbconvert_exporter": "python",
   "pygments_lexer": "ipython3",
   "version": "3.9.5"
  },
  "toc-autonumbering": false,
  "toc-showmarkdowntxt": true
 },
 "nbformat": 4,
 "nbformat_minor": 5
}
